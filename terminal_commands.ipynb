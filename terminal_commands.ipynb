{
 "cells": [
  {
   "cell_type": "code",
   "execution_count": null,
   "metadata": {},
   "outputs": [],
   "source": [
    "!lk sip participant create sip-participant.json"
   ]
  },
  {
   "cell_type": "code",
   "execution_count": null,
   "metadata": {},
   "outputs": [],
   "source": [
    "!lk sip dispatch list "
   ]
  },
  {
   "cell_type": "code",
   "execution_count": null,
   "metadata": {},
   "outputs": [],
   "source": [
    "!lk sip inbound list inbound-list.json  "
   ]
  },
  {
   "cell_type": "code",
   "execution_count": null,
   "metadata": {},
   "outputs": [],
   "source": [
    "!lk sip inbound create inbound-trunk.json "
   ]
  },
  {
   "cell_type": "code",
   "execution_count": 4,
   "metadata": {},
   "outputs": [
    {
     "name": "stdout",
     "output_type": "stream",
     "text": [
      "\u001b]11;?\u001b\\\u001b[6nUsing url, api-key, api-secret from environment\n",
      "SIPCallID: SCL_NG9LTAwVukJM\n",
      "ParticipantID: PA_pLrshkBrSyVW\n",
      "ParticipantIdentity: sip-test\n",
      "RoomName: my-sip-room\n"
     ]
    }
   ],
   "source": [
    "!lk sip participant create sip-participant.json    "
   ]
  },
  {
   "cell_type": "code",
   "execution_count": null,
   "metadata": {},
   "outputs": [],
   "source": [
    "!lk sip outbound create outbound-trunk.json  "
   ]
  },
  {
   "cell_type": "code",
   "execution_count": null,
   "metadata": {},
   "outputs": [],
   "source": [
    "!lk sip dispatch create dispatch-rule.json    "
   ]
  },
  {
   "cell_type": "code",
   "execution_count": 3,
   "metadata": {},
   "outputs": [
    {
     "name": "stdout",
     "output_type": "stream",
     "text": [
      "2025-05-04 13:27:26,326 - \u001b[36mDEBUG\u001b[0m asyncio - Using selector: KqueueSelector \u001b[90m\u001b[0m\n",
      "2025-05-04 13:27:26,327 - \u001b[35mDEV \u001b[0m livekit.agents - Watching /Users/jairo/Projects/livekit-starter \u001b[90m\u001b[0m\n",
      "2025-05-04 13:27:26,814 - \u001b[36mDEBUG\u001b[0m asyncio - Using selector: KqueueSelector \u001b[90m\u001b[0m\n",
      "2025-05-04 13:27:26,817 - \u001b[32mINFO\u001b[0m livekit.agents - starting worker \u001b[90m{\"version\": \"1.0.19\", \"rtc-version\": \"1.0.6\"}\u001b[0m\n",
      "2025-05-04 13:27:26,817 - \u001b[32mINFO\u001b[0m livekit.agents - starting inference executor \u001b[90m\u001b[0m\n",
      "2025-05-04 13:27:27,306 - \u001b[32mINFO\u001b[0m livekit.agents - initializing inference process \u001b[90m{\"pid\": 21826, \"inference\": true}\u001b[0m\n",
      "2025-05-04 13:27:27,306 - \u001b[36mDEBUG\u001b[0m livekit.agents - initializing inference runner \u001b[90m{\"runner\": \"lk_end_of_utterance_multilingual\", \"pid\": 21826, \"inference\": true}\u001b[0m\n",
      "None of PyTorch, TensorFlow >= 2.0, or Flax have been found. Models won't be available and only tokenizers, configuration and file/data utilities can be used.\n",
      "2025-05-04 13:27:28,320 - \u001b[32mINFO\u001b[0m livekit.agents - inference process initialized \u001b[90m{\"pid\": 21826, \"inference\": true}\u001b[0m\n",
      "2025-05-04 13:27:28,320 - \u001b[36mDEBUG\u001b[0m asyncio - Using selector: KqueueSelector \u001b[90m{\"pid\": 21826, \"inference\": true}\u001b[0m\n",
      "2025-05-04 13:27:28,323 - \u001b[32mINFO\u001b[0m livekit.agents - \u001b[1msee tracing information at http://localhost:63278/debug\u001b[0m \u001b[90m\u001b[0m\n",
      "2025-05-04 13:27:28,735 - \u001b[32mINFO\u001b[0m livekit.agents - registered worker \u001b[90m{\"id\": \"AW_Tq38M9PgfRgB\", \"url\": \"wss://myapp-avkm45va.livekit.cloud\", \"region\": \"US West\", \"protocol\": 15}\u001b[0m\n",
      "^C\n",
      "2025-05-04 13:27:54,523 - \u001b[32mINFO\u001b[0m livekit.agents - shutting down worker \u001b[90m{\"id\": \"AW_Tq38M9PgfRgB\"}\u001b[0m\n",
      "2025-05-04 13:27:54,525 - \u001b[32mINFO\u001b[0m livekit.agents - process exiting \u001b[90m{\"reason\": \"\", \"pid\": 21826, \"inference\": true}\u001b[0m\n"
     ]
    }
   ],
   "source": [
    "!python main.py dev"
   ]
  }
 ],
 "metadata": {
  "kernelspec": {
   "display_name": ".venv",
   "language": "python",
   "name": "python3"
  },
  "language_info": {
   "codemirror_mode": {
    "name": "ipython",
    "version": 3
   },
   "file_extension": ".py",
   "mimetype": "text/x-python",
   "name": "python",
   "nbconvert_exporter": "python",
   "pygments_lexer": "ipython3",
   "version": "3.13.3"
  }
 },
 "nbformat": 4,
 "nbformat_minor": 2
}
