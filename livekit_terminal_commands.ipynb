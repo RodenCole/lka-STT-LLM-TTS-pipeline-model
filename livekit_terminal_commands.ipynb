{
 "cells": [
  {
   "cell_type": "markdown",
   "id": "20f9c20a",
   "metadata": {},
   "source": [
    "# Command to manage Inbound Trunks"
   ]
  },
  {
   "cell_type": "code",
   "execution_count": null,
   "id": "9207e5a7",
   "metadata": {},
   "outputs": [],
   "source": [
    "# Create an inbound trunk\n",
    "!lk sip inbound create inbound-trunk.json"
   ]
  },
  {
   "cell_type": "code",
   "execution_count": null,
   "id": "9ab32982",
   "metadata": {},
   "outputs": [],
   "source": [
    "# Update the inbound trunk\n",
    "!lk sip inbound update inbound-trunk.json"
   ]
  },
  {
   "cell_type": "code",
   "execution_count": 2,
   "id": "76841b98",
   "metadata": {},
   "outputs": [
    {
     "name": "stdout",
     "output_type": "stream",
     "text": [
      "\u001b]11;?\u001b\\\u001b[6nUsing url, api-key, api-secret from environment\n",
      "\u001b[37m┌\u001b[0m\u001b[37m─────────────────\u001b[0m\u001b[37m┬\u001b[0m\u001b[37m────────────────────\u001b[0m\u001b[37m┬\u001b[0m\u001b[37m──────────────\u001b[0m\u001b[37m┬\u001b[0m\u001b[37m──────────────────\u001b[0m\u001b[37m┬\u001b[0m\u001b[37m────────────────\u001b[0m\u001b[37m┬\u001b[0m\u001b[37m────────────────\u001b[0m\u001b[37m┬\u001b[0m\u001b[37m────────────\u001b[0m\u001b[37m┬\u001b[0m\u001b[37m─────────\u001b[0m\u001b[37m┬\u001b[0m\u001b[37m──────────\u001b[0m\u001b[37m┐\u001b[0m\n",
      "\u001b[37m│\u001b[0m \u001b[1;37mSipTrunkID\u001b[0m      \u001b[37m│\u001b[0m \u001b[1;37mName\u001b[0m               \u001b[37m│\u001b[0m \u001b[1;37mNumbers\u001b[0m      \u001b[37m│\u001b[0m \u001b[1;37mAllowedAddresses\u001b[0m \u001b[37m│\u001b[0m \u001b[1;37mAllowedNumbers\u001b[0m \u001b[37m│\u001b[0m \u001b[1;37mAuthentication\u001b[0m \u001b[37m│\u001b[0m \u001b[1;37mEncryption\u001b[0m \u001b[37m│\u001b[0m \u001b[1;37mHeaders\u001b[0m \u001b[37m│\u001b[0m \u001b[1;37mMetadata\u001b[0m \u001b[37m│\u001b[0m\n",
      "\u001b[37m├\u001b[0m\u001b[37m─────────────────\u001b[0m\u001b[37m┼\u001b[0m\u001b[37m────────────────────\u001b[0m\u001b[37m┼\u001b[0m\u001b[37m──────────────\u001b[0m\u001b[37m┼\u001b[0m\u001b[37m──────────────────\u001b[0m\u001b[37m┼\u001b[0m\u001b[37m────────────────\u001b[0m\u001b[37m┼\u001b[0m\u001b[37m────────────────\u001b[0m\u001b[37m┼\u001b[0m\u001b[37m────────────\u001b[0m\u001b[37m┼\u001b[0m\u001b[37m─────────\u001b[0m\u001b[37m┼\u001b[0m\u001b[37m──────────\u001b[0m\u001b[37m┤\u001b[0m\n",
      "\u001b[37m│\u001b[0m \u001b[37mST_m5BaQzYpwjj4\u001b[0m \u001b[37m│\u001b[0m \u001b[37mMKIA inbound trunk\u001b[0m \u001b[37m│\u001b[0m \u001b[37m+19284920664\u001b[0m \u001b[37m│\u001b[0m \u001b[37m\u001b[0m                 \u001b[37m│\u001b[0m \u001b[37m\u001b[0m               \u001b[37m│\u001b[0m \u001b[37m\u001b[0m               \u001b[37m│\u001b[0m \u001b[37mDISABLE\u001b[0m    \u001b[37m│\u001b[0m \u001b[37m\u001b[0m        \u001b[37m│\u001b[0m \u001b[37m\u001b[0m         \u001b[37m│\u001b[0m\n",
      "\u001b[37m└\u001b[0m\u001b[37m─────────────────\u001b[0m\u001b[37m┴\u001b[0m\u001b[37m────────────────────\u001b[0m\u001b[37m┴\u001b[0m\u001b[37m──────────────\u001b[0m\u001b[37m┴\u001b[0m\u001b[37m──────────────────\u001b[0m\u001b[37m┴\u001b[0m\u001b[37m────────────────\u001b[0m\u001b[37m┴\u001b[0m\u001b[37m────────────────\u001b[0m\u001b[37m┴\u001b[0m\u001b[37m────────────\u001b[0m\u001b[37m┴\u001b[0m\u001b[37m─────────\u001b[0m\u001b[37m┴\u001b[0m\u001b[37m──────────\u001b[0m\u001b[37m┘\u001b[0m\n"
     ]
    }
   ],
   "source": [
    "# List all inbound trunks\n",
    "!lk sip inbound list"
   ]
  },
  {
   "cell_type": "code",
   "execution_count": null,
   "id": "070f9191",
   "metadata": {},
   "outputs": [],
   "source": [
    "# Delete the inbound trunk\n",
    "!lk sip inbound delete ST_UxAaBKSCcHHe"
   ]
  },
  {
   "cell_type": "markdown",
   "id": "528e4f78",
   "metadata": {},
   "source": [
    "# Manage Outbound"
   ]
  },
  {
   "cell_type": "code",
   "execution_count": 20,
   "id": "d9447381",
   "metadata": {},
   "outputs": [
    {
     "name": "stdout",
     "output_type": "stream",
     "text": [
      "\u001b]11;?\u001b\\\u001b[6nUsing url, api-key, api-secret from environment\n",
      "SIPTrunkID: ST_UsdXMNmBr3AL\n"
     ]
    }
   ],
   "source": [
    "# Create an outbound trunk\n",
    "!lk sip outbound create outbound-trunk.json"
   ]
  },
  {
   "cell_type": "code",
   "execution_count": 21,
   "id": "992b86e3",
   "metadata": {},
   "outputs": [
    {
     "name": "stdout",
     "output_type": "stream",
     "text": [
      "\u001b]11;?\u001b\\\u001b[6nUsing url, api-key, api-secret from environment\n",
      "\u001b[37m┌\u001b[0m\u001b[37m─────────────────\u001b[0m\u001b[37m┬\u001b[0m\u001b[37m─────────────────────\u001b[0m\u001b[37m┬\u001b[0m\u001b[37m──────────────────────\u001b[0m\u001b[37m┬\u001b[0m\u001b[37m───────────\u001b[0m\u001b[37m┬\u001b[0m\u001b[37m──────────────\u001b[0m\u001b[37m┬\u001b[0m\u001b[37m────────────────\u001b[0m\u001b[37m┬\u001b[0m\u001b[37m────────────\u001b[0m\u001b[37m┬\u001b[0m\u001b[37m─────────\u001b[0m\u001b[37m┬\u001b[0m\u001b[37m──────────\u001b[0m\u001b[37m┐\u001b[0m\n",
      "\u001b[37m│\u001b[0m \u001b[1;37mSipTrunkID\u001b[0m      \u001b[37m│\u001b[0m \u001b[1;37mName\u001b[0m                \u001b[37m│\u001b[0m \u001b[1;37mAddress\u001b[0m              \u001b[37m│\u001b[0m \u001b[1;37mTransport\u001b[0m \u001b[37m│\u001b[0m \u001b[1;37mNumbers\u001b[0m      \u001b[37m│\u001b[0m \u001b[1;37mAuthentication\u001b[0m \u001b[37m│\u001b[0m \u001b[1;37mEncryption\u001b[0m \u001b[37m│\u001b[0m \u001b[1;37mHeaders\u001b[0m \u001b[37m│\u001b[0m \u001b[1;37mMetadata\u001b[0m \u001b[37m│\u001b[0m\n",
      "\u001b[37m├\u001b[0m\u001b[37m─────────────────\u001b[0m\u001b[37m┼\u001b[0m\u001b[37m─────────────────────\u001b[0m\u001b[37m┼\u001b[0m\u001b[37m──────────────────────\u001b[0m\u001b[37m┼\u001b[0m\u001b[37m───────────\u001b[0m\u001b[37m┼\u001b[0m\u001b[37m──────────────\u001b[0m\u001b[37m┼\u001b[0m\u001b[37m────────────────\u001b[0m\u001b[37m┼\u001b[0m\u001b[37m────────────\u001b[0m\u001b[37m┼\u001b[0m\u001b[37m─────────\u001b[0m\u001b[37m┼\u001b[0m\u001b[37m──────────\u001b[0m\u001b[37m┤\u001b[0m\n",
      "\u001b[37m│\u001b[0m \u001b[37mST_UsdXMNmBr3AL\u001b[0m \u001b[37m│\u001b[0m \u001b[37mMKIA outbound trunk\u001b[0m \u001b[37m│\u001b[0m \u001b[37mmkia.pstn.twilio.com\u001b[0m \u001b[37m│\u001b[0m \u001b[37mAUTO\u001b[0m      \u001b[37m│\u001b[0m \u001b[37m+19284920664\u001b[0m \u001b[37m│\u001b[0m \u001b[37mramasen / ****\u001b[0m \u001b[37m│\u001b[0m \u001b[37mDISABLE\u001b[0m    \u001b[37m│\u001b[0m \u001b[37m\u001b[0m        \u001b[37m│\u001b[0m \u001b[37m\u001b[0m         \u001b[37m│\u001b[0m\n",
      "\u001b[37m└\u001b[0m\u001b[37m─────────────────\u001b[0m\u001b[37m┴\u001b[0m\u001b[37m─────────────────────\u001b[0m\u001b[37m┴\u001b[0m\u001b[37m──────────────────────\u001b[0m\u001b[37m┴\u001b[0m\u001b[37m───────────\u001b[0m\u001b[37m┴\u001b[0m\u001b[37m──────────────\u001b[0m\u001b[37m┴\u001b[0m\u001b[37m────────────────\u001b[0m\u001b[37m┴\u001b[0m\u001b[37m────────────\u001b[0m\u001b[37m┴\u001b[0m\u001b[37m─────────\u001b[0m\u001b[37m┴\u001b[0m\u001b[37m──────────\u001b[0m\u001b[37m┘\u001b[0m\n"
     ]
    }
   ],
   "source": [
    "# List all outbound trunks\n",
    "!lk sip outbound list\n"
   ]
  },
  {
   "cell_type": "code",
   "execution_count": 18,
   "id": "f4dd6aba",
   "metadata": {},
   "outputs": [
    {
     "name": "stdout",
     "output_type": "stream",
     "text": [
      "\u001b]11;?\u001b\\\u001b[6nUsing url, api-key, api-secret from environment\n",
      "SIPTrunkID: ST_xzE3AAwZgU6t\n"
     ]
    }
   ],
   "source": [
    "# Delete an outbound trunk\n",
    "!lk sip outbound delete ST_xzE3AAwZgU6t"
   ]
  },
  {
   "cell_type": "code",
   "execution_count": 23,
   "id": "a7345483",
   "metadata": {},
   "outputs": [
    {
     "name": "stdout",
     "output_type": "stream",
     "text": [
      "\u001b]11;?\u001b\\\u001b[6nUsing url, api-key, api-secret from environment\n",
      "SIPCallID: SCL_v9uN2ry7YeBZ\n",
      "ParticipantID: PA_xoxZsukoWxeg\n",
      "ParticipantIdentity: sip-test\n",
      "RoomName: my-sip-room\n"
     ]
    }
   ],
   "source": [
    "# Make an Outbound Call\n",
    "!lk sip participant create sip-participant.json"
   ]
  },
  {
   "cell_type": "markdown",
   "id": "abf54e88",
   "metadata": {},
   "source": [
    "# Dispath Rule Management"
   ]
  },
  {
   "cell_type": "code",
   "execution_count": 2,
   "id": "4f9ee619",
   "metadata": {},
   "outputs": [
    {
     "name": "stdout",
     "output_type": "stream",
     "text": [
      "\u001b]11;?\u001b\\\u001b[6nUsing url, api-key, api-secret from environment\n",
      "^C\n"
     ]
    }
   ],
   "source": [
    "# Create a Dispatch Rule\n",
    "!lk sip dispatch create dispatch-rule.json"
   ]
  },
  {
   "cell_type": "code",
   "execution_count": 6,
   "id": "3e3ad95f",
   "metadata": {},
   "outputs": [
    {
     "name": "stdout",
     "output_type": "stream",
     "text": [
      "\u001b]11;?\u001b\\\u001b[6nUsing url, api-key, api-secret from environment\n",
      "\u001b[37m┌\u001b[0m\u001b[37m───────────────────\u001b[0m\u001b[37m┬\u001b[0m\u001b[37m────────────────────\u001b[0m\u001b[37m┬\u001b[0m\u001b[37m─────────────────\u001b[0m\u001b[37m┬\u001b[0m\u001b[37m─────────────────────\u001b[0m\u001b[37m┬\u001b[0m\u001b[37m─────────────────────────\u001b[0m\u001b[37m┬\u001b[0m\u001b[37m─────\u001b[0m\u001b[37m┬\u001b[0m\u001b[37m────────────\u001b[0m\u001b[37m┬\u001b[0m\u001b[37m────────\u001b[0m\u001b[37m┐\u001b[0m\n",
      "\u001b[37m│\u001b[0m \u001b[1;37mSipDispatchRuleID\u001b[0m \u001b[37m│\u001b[0m \u001b[1;37mName\u001b[0m               \u001b[37m│\u001b[0m \u001b[1;37mSipTrunks\u001b[0m       \u001b[37m│\u001b[0m \u001b[1;37mType\u001b[0m                \u001b[37m│\u001b[0m \u001b[1;37mRoomName\u001b[0m                \u001b[37m│\u001b[0m \u001b[1;37mPin\u001b[0m \u001b[37m│\u001b[0m \u001b[1;37mAttributes\u001b[0m \u001b[37m│\u001b[0m \u001b[1;37mAgents\u001b[0m \u001b[37m│\u001b[0m\n",
      "\u001b[37m├\u001b[0m\u001b[37m───────────────────\u001b[0m\u001b[37m┼\u001b[0m\u001b[37m────────────────────\u001b[0m\u001b[37m┼\u001b[0m\u001b[37m─────────────────\u001b[0m\u001b[37m┼\u001b[0m\u001b[37m─────────────────────\u001b[0m\u001b[37m┼\u001b[0m\u001b[37m─────────────────────────\u001b[0m\u001b[37m┼\u001b[0m\u001b[37m─────\u001b[0m\u001b[37m┼\u001b[0m\u001b[37m────────────\u001b[0m\u001b[37m┼\u001b[0m\u001b[37m────────\u001b[0m\u001b[37m┤\u001b[0m\n",
      "\u001b[37m│\u001b[0m \u001b[37mSDR_Wke7u4GvkZ96\u001b[0m  \u001b[37m│\u001b[0m \u001b[37mMKIA dispatch-rule\u001b[0m \u001b[37m│\u001b[0m \u001b[37mST_m5BaQzYpwjj4\u001b[0m \u001b[37m│\u001b[0m \u001b[37mIndividual (Caller)\u001b[0m \u001b[37m│\u001b[0m \u001b[37mcall-_<caller>_<random>\u001b[0m \u001b[37m│\u001b[0m \u001b[37m\u001b[0m    \u001b[37m│\u001b[0m \u001b[37mmap[]\u001b[0m      \u001b[37m│\u001b[0m \u001b[37m\u001b[0m       \u001b[37m│\u001b[0m\n",
      "\u001b[37m└\u001b[0m\u001b[37m───────────────────\u001b[0m\u001b[37m┴\u001b[0m\u001b[37m────────────────────\u001b[0m\u001b[37m┴\u001b[0m\u001b[37m─────────────────\u001b[0m\u001b[37m┴\u001b[0m\u001b[37m─────────────────────\u001b[0m\u001b[37m┴\u001b[0m\u001b[37m─────────────────────────\u001b[0m\u001b[37m┴\u001b[0m\u001b[37m─────\u001b[0m\u001b[37m┴\u001b[0m\u001b[37m────────────\u001b[0m\u001b[37m┴\u001b[0m\u001b[37m────────\u001b[0m\u001b[37m┘\u001b[0m\n"
     ]
    }
   ],
   "source": [
    "# List all Dispatch Rules\n",
    "!lk sip dispatch list"
   ]
  },
  {
   "cell_type": "code",
   "execution_count": null,
   "id": "4335212c",
   "metadata": {},
   "outputs": [],
   "source": [
    "# Update a Dispatch Rule\n",
    "!lk sip dispatch update --id SDR_wBgviNz5cPkQ dispatch-rule.json"
   ]
  },
  {
   "cell_type": "code",
   "execution_count": 4,
   "id": "10fd110f",
   "metadata": {},
   "outputs": [
    {
     "name": "stdout",
     "output_type": "stream",
     "text": [
      "\u001b]11;?\u001b\\\u001b[6nUsing url, api-key, api-secret from environment\n",
      "SIPDispatchRuleID: SDR_oaSgs8kNPgW4\n"
     ]
    }
   ],
   "source": [
    "# Delete a Dispatch Rule\n",
    "!lk sip dispatch delete SDR_oaSgs8kNPgW4"
   ]
  },
  {
   "cell_type": "code",
   "execution_count": 24,
   "id": "ebe01eea",
   "metadata": {},
   "outputs": [
    {
     "name": "stdout",
     "output_type": "stream",
     "text": [
      "\u001b]11;?\u001b\\\u001b[6nIncorrect Usage: flag provided but not defined: -room\n",
      "\n",
      "flag provided but not defined: -room\n"
     ]
    }
   ],
   "source": [
    "!lk agent dispatch --room my-sip-room \\\n",
    "  --agent-name \"my-telephony-agent\" \\\n",
    "  --participant-identity \"ai-assistant\""
   ]
  },
  {
   "cell_type": "markdown",
   "id": "4771fc0a",
   "metadata": {},
   "source": [
    "# Manage LK Project"
   ]
  },
  {
   "cell_type": "code",
   "execution_count": 10,
   "id": "e9cfa3ad",
   "metadata": {},
   "outputs": [
    {
     "name": "stdout",
     "output_type": "stream",
     "text": [
      "\u001b]11;?\u001b\\\u001b[6n\u001b[37m┌\u001b[0m\u001b[37m────────\u001b[0m\u001b[37m┬\u001b[0m\u001b[37m────────────────────────────────────\u001b[0m\u001b[37m┬\u001b[0m\u001b[37m─────────────────\u001b[0m\u001b[37m┐\u001b[0m\n",
      "\u001b[37m│\u001b[0m \u001b[1;37mName\u001b[0m   \u001b[37m│\u001b[0m \u001b[1;37mURL\u001b[0m                                \u001b[37m│\u001b[0m \u001b[1;37mAPI Key\u001b[0m         \u001b[37m│\u001b[0m\n",
      "\u001b[37m├\u001b[0m\u001b[37m────────\u001b[0m\u001b[37m┼\u001b[0m\u001b[37m────────────────────────────────────\u001b[0m\u001b[37m┼\u001b[0m\u001b[37m─────────────────\u001b[0m\u001b[37m┤\u001b[0m\n",
      "\u001b[37m│\u001b[0m \u001b[36m* mkia\u001b[0m \u001b[37m│\u001b[0m \u001b[36mwss://myapp-avkm45va.livekit.cloud\u001b[0m \u001b[37m│\u001b[0m \u001b[36mAPINeNYFa3EPV8Y\u001b[0m \u001b[37m│\u001b[0m\n",
      "\u001b[37m└\u001b[0m\u001b[37m────────\u001b[0m\u001b[37m┴\u001b[0m\u001b[37m────────────────────────────────────\u001b[0m\u001b[37m┴\u001b[0m\u001b[37m─────────────────\u001b[0m\u001b[37m┘\u001b[0m\n"
     ]
    }
   ],
   "source": [
    "# List all projects\n",
    "!lk project list"
   ]
  },
  {
   "cell_type": "code",
   "execution_count": 8,
   "id": "9843df10",
   "metadata": {},
   "outputs": [
    {
     "name": "stdout",
     "output_type": "stream",
     "text": [
      "\u001b]11;?\u001b\\\u001b[6nNo help topic for 'delete'\n"
     ]
    }
   ],
   "source": [
    "# Delete a project\n",
    "!lk project remove myapp2"
   ]
  },
  {
   "cell_type": "code",
   "execution_count": 6,
   "id": "8ff89f31",
   "metadata": {},
   "outputs": [
    {
     "name": "stdout",
     "output_type": "stream",
     "text": [
      "\u001b]11;?\u001b\\\u001b[6n"
     ]
    }
   ],
   "source": [
    "# Set the default project\n",
    "!lk project set-default mkia"
   ]
  },
  {
   "cell_type": "markdown",
   "id": "c4035a1b",
   "metadata": {},
   "source": [
    "# MISC Terminal Commands"
   ]
  },
  {
   "cell_type": "code",
   "execution_count": null,
   "id": "36ee4c9c",
   "metadata": {},
   "outputs": [],
   "source": [
    "# Run the server\n",
    "!python3 main.py dev"
   ]
  }
 ],
 "metadata": {
  "kernelspec": {
   "display_name": ".venv",
   "language": "python",
   "name": "python3"
  },
  "language_info": {
   "codemirror_mode": {
    "name": "ipython",
    "version": 3
   },
   "file_extension": ".py",
   "mimetype": "text/x-python",
   "name": "python",
   "nbconvert_exporter": "python",
   "pygments_lexer": "ipython3",
   "version": "3.13.3"
  }
 },
 "nbformat": 4,
 "nbformat_minor": 5
}
